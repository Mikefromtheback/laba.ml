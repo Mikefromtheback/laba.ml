{
 "cells": [
  {
   "cell_type": "code",
   "execution_count": 1,
   "id": "4a80e7d4-fc77-4785-8d6c-1a88162a3183",
   "metadata": {},
   "outputs": [
    {
     "name": "stdout",
     "output_type": "stream",
     "text": [
      "{'mean': 3.4285714285714284, 'median': 3, 'mode': 1}\n"
     ]
    }
   ],
   "source": [
    "from statistics import mean, median, mode\n",
    "\n",
    "def func(input_list):\n",
    "    return {\"mean\": mean(input_list), \"median\": median(input_list), \"mode\": mode(input_list)}\n",
    "\n",
    "# Пример использования:\n",
    "result = func([0, 1, 1, 10, 5, 4, 3])\n",
    "print(result)\n"
   ]
  },
  {
   "cell_type": "code",
   "execution_count": 2,
   "id": "e367bb37-95c5-46d7-b30f-8c1757962202",
   "metadata": {},
   "outputs": [
    {
     "name": "stdout",
     "output_type": "stream",
     "text": [
      "{'attack_type': 'Melee', 'id': 61, 'legs': 8, 'localized_name': 'Broodmother', 'name': 'npc_dota_hero_broodmother', 'primary_attr': 'agi', 'roles': ['Carry', ' Pusher', ' Escape', ' Nuker']}\n"
     ]
    }
   ],
   "source": [
    "from typing import List, Dict\n",
    "def parse_csv(file_content: str) -> List[Dict]:\n",
    "    lines = file_content.strip().split('\\n')\n",
    "    headers = lines[0].replace(\"'\", \"\").split(',')\n",
    "    heroes_data = []\n",
    "    for line in lines[1:]:\n",
    "        line = line.replace(\"'\", \"\").replace('\"', \"\")\n",
    "        index_of_bracket = line.find('[')\n",
    "        values = line[:index_of_bracket-1].split(',')\n",
    "        roles_str = line[index_of_bracket+1:-1]\n",
    "        roles = roles_str.split(',')\n",
    "        values.append(roles)\n",
    "        hero_dict = {headers[i]: int(values[i]) if headers[i] in ['legs', 'id'] else values[i] for i in range(1, len(headers))}\n",
    "        heroes_data.append(hero_dict)\n",
    "    return heroes_data\n",
    "\n",
    "def find_max_legs_hero(heroes_data):\n",
    "    max_legs_hero = max(heroes_data, key=lambda x: x['legs'])\n",
    "    return max_legs_hero\n",
    "\n",
    "def read_csv_content(file_path: str) -> str:\n",
    "    with open(file_path, 'r') as file:\n",
    "        csv_content = file.read()\n",
    "    return csv_content\n",
    "\n",
    "file_path = \"/home/sohatiy/Downloads/dota_hero_stats.csv\"\n",
    "csv_content = read_csv_content(file_path)\n",
    "heroes_data = parse_csv(csv_content)\n",
    "max_legs_hero = find_max_legs_hero(heroes_data)\n",
    "print(max_legs_hero)"
   ]
  }
 ],
 "metadata": {
  "kernelspec": {
   "display_name": "Python 3 (ipykernel)",
   "language": "python",
   "name": "python3"
  },
  "language_info": {
   "codemirror_mode": {
    "name": "ipython",
    "version": 3
   },
   "file_extension": ".py",
   "mimetype": "text/x-python",
   "name": "python",
   "nbconvert_exporter": "python",
   "pygments_lexer": "ipython3",
   "version": "3.11.7"
  }
 },
 "nbformat": 4,
 "nbformat_minor": 5
}
